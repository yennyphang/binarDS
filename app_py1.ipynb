{
  "nbformat": 4,
  "nbformat_minor": 0,
  "metadata": {
    "colab": {
      "provenance": [],
      "authorship_tag": "ABX9TyM3XaRONTRFe27fIB/i9pjd",
      "include_colab_link": true
    },
    "kernelspec": {
      "name": "python3",
      "display_name": "Python 3"
    },
    "language_info": {
      "name": "python"
    }
  },
  "cells": [
    {
      "cell_type": "markdown",
      "metadata": {
        "id": "view-in-github",
        "colab_type": "text"
      },
      "source": [
        "<a href=\"https://colab.research.google.com/github/yennyphang/binarDS/blob/main/app_py1.ipynb\" target=\"_parent\"><img src=\"https://colab.research.google.com/assets/colab-badge.svg\" alt=\"Open In Colab\"/></a>"
      ]
    },
    {
      "cell_type": "code",
      "source": [
        "!pip install flask"
      ],
      "metadata": {
        "colab": {
          "base_uri": "https://localhost:8080/"
        },
        "id": "P7ztRHNKLUby",
        "outputId": "14db3eab-d8ae-42aa-f1d8-00ddaafda62f"
      },
      "execution_count": 1,
      "outputs": [
        {
          "output_type": "stream",
          "name": "stdout",
          "text": [
            "Looking in indexes: https://pypi.org/simple, https://us-python.pkg.dev/colab-wheels/public/simple/\n",
            "Requirement already satisfied: flask in /usr/local/lib/python3.7/dist-packages (1.1.4)\n",
            "Requirement already satisfied: Werkzeug<2.0,>=0.15 in /usr/local/lib/python3.7/dist-packages (from flask) (1.0.1)\n",
            "Requirement already satisfied: click<8.0,>=5.1 in /usr/local/lib/python3.7/dist-packages (from flask) (7.1.2)\n",
            "Requirement already satisfied: itsdangerous<2.0,>=0.24 in /usr/local/lib/python3.7/dist-packages (from flask) (1.1.0)\n",
            "Requirement already satisfied: Jinja2<3.0,>=2.10.1 in /usr/local/lib/python3.7/dist-packages (from flask) (2.11.3)\n",
            "Requirement already satisfied: MarkupSafe>=0.23 in /usr/local/lib/python3.7/dist-packages (from Jinja2<3.0,>=2.10.1->flask) (2.0.1)\n"
          ]
        }
      ]
    },
    {
      "cell_type": "code",
      "execution_count": null,
      "metadata": {
        "id": "1eNEJHkgPwcL",
        "colab": {
          "base_uri": "https://localhost:8080/"
        },
        "outputId": "8faab674-6f0d-4ab3-994f-c544eeabea3d"
      },
      "outputs": [
        {
          "output_type": "stream",
          "name": "stdout",
          "text": [
            " * Serving Flask app \"__main__\" (lazy loading)\n",
            " * Environment: production\n",
            "\u001b[31m   WARNING: This is a development server. Do not use it in a production deployment.\u001b[0m\n",
            "\u001b[2m   Use a production WSGI server instead.\u001b[0m\n",
            " * Debug mode: off\n"
          ]
        },
        {
          "output_type": "stream",
          "name": "stderr",
          "text": [
            "INFO:werkzeug: * Running on http://127.0.0.1:5000/ (Press CTRL+C to quit)\n"
          ]
        }
      ],
      "source": [
        "from flask import Flask, jsonify\n",
        "app = Flask(__name__)\n",
        "\n",
        "@app.route('/',methods=[\"Get\"])\n",
        "def hello_Yenny():\n",
        "  json_response ={\n",
        "      'status_code' :200,\n",
        "      'description' : \"Nama saya Yenny\",\n",
        "      'data' : \"Hello world\"\n",
        "  }\n",
        "\n",
        "  response_data = jsonify(json_response)\n",
        "  return response_data\n",
        "\n",
        "if __name__ == '__main__':\n",
        "   app.run()"
      ]
    },
    {
      "cell_type": "code",
      "execution_count": null,
      "metadata": {
        "id": "e0C3XC9gS_cX"
      },
      "outputs": [],
      "source": [
        "import re"
      ]
    },
    {
      "cell_type": "code",
      "execution_count": null,
      "metadata": {
        "colab": {
          "background_save": true
        },
        "id": "KvD5NDm7H_vJ"
      },
      "outputs": [],
      "source": [
        "from flask import Flask, jsonify\n",
        "app = Flask(__name__)\n",
        "\n",
        "@app.route('/',methods =[\"Get\"])\n",
        "def hello_Yenny():\n",
        "  json_response ={\n",
        "      'status_code' :200,\n",
        "      'description' : \"Nama saya Yenny\",\n",
        "      'data' : \"Hello world\"\n",
        "  }\n",
        "\n",
        "  response_data = jsonify(json_response)\n",
        "  return response_data\n",
        "  \n",
        "@app.route('/text-clean', methods =[\"Get\"])\n",
        "def text():\n",
        "  json_response={\n",
        "      'status_code' :200,\n",
        "      'description' : \"Nama saya Yenny\",\n",
        "      'data' : \"Hello, apa kabar semua\"  \n",
        "  }\n",
        "\n",
        "  response_data = jsonify(json_response)\n",
        "  return response_data\n",
        "\n",
        "@app.route('/text',methods =[\"Get\"])\n",
        "def text_clean():\n",
        "  json_response={\n",
        "      'status_code' :200,\n",
        "      'description' : \"Nama saya Yenny\",\n",
        "      'data' : re.sub(r'[^a-zA-Z0-9]','', \"Hello, apa kabar semua\"),  \n",
        "  }\n",
        "  \n",
        "  response_data = jsonify(json_response)\n",
        "  return response_data\n",
        "\n",
        "if __name__ == '__main__':\n",
        "   app.run()"
      ]
    },
    {
      "cell_type": "code",
      "execution_count": null,
      "metadata": {
        "id": "QmRz9i9lbTz4"
      },
      "outputs": [],
      "source": [
        "!pip install -U setuptools"
      ]
    },
    {
      "cell_type": "code",
      "execution_count": null,
      "metadata": {
        "id": "4ikmhbzcbnRV"
      },
      "outputs": [],
      "source": [
        "!pip install flasgger"
      ]
    },
    {
      "cell_type": "code",
      "execution_count": null,
      "metadata": {
        "id": "4l_RREkcb33r"
      },
      "outputs": [],
      "source": [
        "import re\n",
        "from flask import Flask, jsonify\n",
        "app = Flask(__name__)\n",
        "\n",
        "from flask import request\n",
        "from flasgger import Swagger, LazyString, LazyJSONEncoder\n",
        "from flasgger import swag_from\n",
        "\n",
        "app.json = LazyJSONEncoder\n",
        "swagger_template = dict(\n",
        "info ={\n",
        "    'title':LazyString(lambda: 'API Documentation for data Processing and Modeling'),\n",
        "    'version':LazyString(lambda: '1.0,0'),\n",
        "    'description':LazyString (lambda: 'Dokumentasi API untuk data preprocessing dan modelling'),\n",
        "},\n",
        "    host = LazyString(lambda:request.host)\n",
        ")\n",
        "\n",
        "swagger_config ={\n",
        "     \"headers\":[],\n",
        "     \"specs\" :[\n",
        "         {\n",
        "              \"endpoint\":'docs',\n",
        "              \"route\": '/docs.json',\n",
        "         }\n",
        "     ],\n",
        "     \"static_url_path\": \"/flagger_static\",\n",
        "     \"swagger_ui\":True,\n",
        "     \"specs_route\": \"/docs/\"\n",
        "}\n",
        "swagger = swagger(app, template-swagger_template, config=swagger_config)\n",
        "@swag_from(\"docs/hello_world.yml\" , methods=['Get'])\n",
        "def hello_world():\n",
        "    json_response ={\n",
        "        'status_code' :200\n",
        "        'description' :\"Menyapa Hello world\",\n",
        "        'data' : \"Hello World\",\n",
        "    }\n",
        "\n",
        "    response_data = jsonify(json_response)\n",
        "    return response_data\n",
        "\n",
        "if __name__ == ' __main__':\n",
        "    app.run    "
      ]
    }
  ]
}